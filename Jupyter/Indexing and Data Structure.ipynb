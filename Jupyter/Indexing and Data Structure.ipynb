{
 "cells": [
  {
   "cell_type": "markdown",
   "id": "7d062af8",
   "metadata": {},
   "source": [
    "### -Indexing"
   ]
  },
  {
   "cell_type": "code",
   "execution_count": 1,
   "id": "05d26065",
   "metadata": {},
   "outputs": [
    {
     "data": {
      "text/plain": [
       "'Dal and Chawal'"
      ]
     },
     "execution_count": 1,
     "metadata": {},
     "output_type": "execute_result"
    }
   ],
   "source": [
    "#   make a string\n",
    "a=\"Dal and Chawal\"\n",
    "a"
   ]
  },
  {
   "cell_type": "code",
   "execution_count": 2,
   "id": "8e3fd772",
   "metadata": {},
   "outputs": [
    {
     "data": {
      "text/plain": [
       "'Dal and Chawal'"
      ]
     },
     "execution_count": 2,
     "metadata": {},
     "output_type": "execute_result"
    }
   ],
   "source": [
    "a"
   ]
  },
  {
   "cell_type": "code",
   "execution_count": 3,
   "id": "2dc7a87e",
   "metadata": {},
   "outputs": [
    {
     "data": {
      "text/plain": [
       "'D'"
      ]
     },
     "execution_count": 3,
     "metadata": {},
     "output_type": "execute_result"
    }
   ],
   "source": [
    "a[0]"
   ]
  },
  {
   "cell_type": "code",
   "execution_count": 4,
   "id": "5f7881f3",
   "metadata": {},
   "outputs": [
    {
     "data": {
      "text/plain": [
       "'l'"
      ]
     },
     "execution_count": 4,
     "metadata": {},
     "output_type": "execute_result"
    }
   ],
   "source": [
    "a[2]"
   ]
  },
  {
   "cell_type": "code",
   "execution_count": 5,
   "id": "085bb3a2",
   "metadata": {},
   "outputs": [
    {
     "data": {
      "text/plain": [
       "14"
      ]
     },
     "execution_count": 5,
     "metadata": {},
     "output_type": "execute_result"
    }
   ],
   "source": [
    "# length of indexing\n",
    "len(a)"
   ]
  },
  {
   "cell_type": "code",
   "execution_count": 6,
   "id": "21c92d7f",
   "metadata": {},
   "outputs": [
    {
     "data": {
      "text/plain": [
       "'Dal'"
      ]
     },
     "execution_count": 6,
     "metadata": {},
     "output_type": "execute_result"
    }
   ],
   "source": [
    "a[0:3]"
   ]
  },
  {
   "cell_type": "code",
   "execution_count": 7,
   "id": "fe318bb5",
   "metadata": {
    "scrolled": true
   },
   "outputs": [
    {
     "data": {
      "text/plain": [
       "'Dal and Chawal'"
      ]
     },
     "execution_count": 7,
     "metadata": {},
     "output_type": "execute_result"
    }
   ],
   "source": [
    "a[0:14]"
   ]
  },
  {
   "cell_type": "code",
   "execution_count": 8,
   "id": "60edf8c3",
   "metadata": {},
   "outputs": [
    {
     "data": {
      "text/plain": [
       "'w'"
      ]
     },
     "execution_count": 8,
     "metadata": {},
     "output_type": "execute_result"
    }
   ],
   "source": [
    "a[-3]"
   ]
  },
  {
   "cell_type": "code",
   "execution_count": 9,
   "id": "6524ba9e",
   "metadata": {},
   "outputs": [
    {
     "data": {
      "text/plain": [
       "'Chawal'"
      ]
     },
     "execution_count": 9,
     "metadata": {},
     "output_type": "execute_result"
    }
   ],
   "source": [
    "a[-6:14]"
   ]
  },
  {
   "cell_type": "code",
   "execution_count": 10,
   "id": "ac536bb8",
   "metadata": {},
   "outputs": [
    {
     "data": {
      "text/plain": [
       "'bryani'"
      ]
     },
     "execution_count": 10,
     "metadata": {},
     "output_type": "execute_result"
    }
   ],
   "source": [
    "food=\"bryani\"\n",
    "food"
   ]
  },
  {
   "cell_type": "markdown",
   "id": "a12b9c2b",
   "metadata": {},
   "source": [
    "### string methods"
   ]
  },
  {
   "cell_type": "code",
   "execution_count": 11,
   "id": "cc960f70",
   "metadata": {},
   "outputs": [
    {
     "data": {
      "text/plain": [
       "'bryani'"
      ]
     },
     "execution_count": 11,
     "metadata": {},
     "output_type": "execute_result"
    }
   ],
   "source": [
    "food"
   ]
  },
  {
   "cell_type": "code",
   "execution_count": 12,
   "id": "58b31aa8",
   "metadata": {},
   "outputs": [
    {
     "data": {
      "text/plain": [
       "6"
      ]
     },
     "execution_count": 12,
     "metadata": {},
     "output_type": "execute_result"
    }
   ],
   "source": [
    "len(food)"
   ]
  },
  {
   "cell_type": "code",
   "execution_count": 13,
   "id": "6d4d4f0d",
   "metadata": {},
   "outputs": [
    {
     "data": {
      "text/plain": [
       "'Bryani'"
      ]
     },
     "execution_count": 13,
     "metadata": {},
     "output_type": "execute_result"
    }
   ],
   "source": [
    "#Capitilize element\n",
    "food.capitalize()"
   ]
  },
  {
   "cell_type": "code",
   "execution_count": 14,
   "id": "382a508a",
   "metadata": {},
   "outputs": [
    {
     "data": {
      "text/plain": [
       "'BRYANI'"
      ]
     },
     "execution_count": 14,
     "metadata": {},
     "output_type": "execute_result"
    }
   ],
   "source": [
    "#Upper case\n",
    "food.upper()"
   ]
  },
  {
   "cell_type": "code",
   "execution_count": 15,
   "id": "f293fcf0",
   "metadata": {},
   "outputs": [
    {
     "data": {
      "text/plain": [
       "'bryani'"
      ]
     },
     "execution_count": 15,
     "metadata": {},
     "output_type": "execute_result"
    }
   ],
   "source": [
    "#Lower case\n",
    "food.lower()"
   ]
  },
  {
   "cell_type": "code",
   "execution_count": 16,
   "id": "f9a1c4be",
   "metadata": {},
   "outputs": [
    {
     "data": {
      "text/plain": [
       "'Pasta'"
      ]
     },
     "execution_count": 16,
     "metadata": {},
     "output_type": "execute_result"
    }
   ],
   "source": [
    "#Replace word\n",
    "food.replace(\"bryani\",\"Pasta\")"
   ]
  },
  {
   "cell_type": "code",
   "execution_count": 17,
   "id": "a74d841f",
   "metadata": {},
   "outputs": [
    {
     "data": {
      "text/plain": [
       "'Yasir Mehmood Department of Electronics Quaid i Azam University Islamabad'"
      ]
     },
     "execution_count": 17,
     "metadata": {},
     "output_type": "execute_result"
    }
   ],
   "source": [
    "#Counting a specific alphabet in a string\n",
    "name=\"Yasir Mehmood Department of Electronics Quaid i Azam University Islamabad\"\n",
    "name"
   ]
  },
  {
   "cell_type": "code",
   "execution_count": 18,
   "id": "88081eab",
   "metadata": {},
   "outputs": [
    {
     "data": {
      "text/plain": [
       "2"
      ]
     },
     "execution_count": 18,
     "metadata": {},
     "output_type": "execute_result"
    }
   ],
   "source": [
    "name.count(\"c\")"
   ]
  },
  {
   "cell_type": "markdown",
   "id": "a3800798",
   "metadata": {},
   "source": [
    "### - finding an index number in a string"
   ]
  },
  {
   "cell_type": "code",
   "execution_count": 19,
   "id": "2f4ebcf9",
   "metadata": {},
   "outputs": [
    {
     "data": {
      "text/plain": [
       "'Yasir Mehmood Department of Electronics Quaid i Azam University Islamabad'"
      ]
     },
     "execution_count": 19,
     "metadata": {},
     "output_type": "execute_result"
    }
   ],
   "source": [
    "#Counting a specific alphabet in a string\n",
    "name=\"Yasir Mehmood Department of Electronics Quaid i Azam University Islamabad\"\n",
    "name"
   ]
  },
  {
   "cell_type": "code",
   "execution_count": 20,
   "id": "b1e9ebac",
   "metadata": {},
   "outputs": [
    {
     "data": {
      "text/plain": [
       "12"
      ]
     },
     "execution_count": 20,
     "metadata": {},
     "output_type": "execute_result"
    }
   ],
   "source": [
    "name.find(\"d\")"
   ]
  },
  {
   "cell_type": "code",
   "execution_count": 21,
   "id": "946dc1ea",
   "metadata": {},
   "outputs": [
    {
     "data": {
      "text/plain": [
       "'I Love Chicken Bryani, Pizza,Samosa Chat and Chicken Karahi'"
      ]
     },
     "execution_count": 21,
     "metadata": {},
     "output_type": "execute_result"
    }
   ],
   "source": [
    "### - How to split a string\n",
    "food=\"I Love Chicken Bryani, Pizza,Samosa Chat and Chicken Karahi\"\n",
    "food"
   ]
  },
  {
   "cell_type": "code",
   "execution_count": 22,
   "id": "e645f9fd",
   "metadata": {},
   "outputs": [
    {
     "data": {
      "text/plain": [
       "['I Love Chicken Bryani', ' Pizza', 'Samosa Chat and Chicken Karahi']"
      ]
     },
     "execution_count": 22,
     "metadata": {},
     "output_type": "execute_result"
    }
   ],
   "source": [
    "food.split(\",\")"
   ]
  },
  {
   "cell_type": "markdown",
   "id": "333b96b6",
   "metadata": {},
   "source": [
    "###  Basic Data Structure in Python\n",
    "1- Tuple\n",
    "2- List\n",
    "3- Dictinaries\n",
    "4- Set"
   ]
  },
  {
   "cell_type": "markdown",
   "id": "af932039",
   "metadata": {},
   "source": [
    "### 1- Tuple\n",
    "- ordered collection of elements.\n",
    "- enclosed in () round braces.\n",
    "- Different kinds of elements store can be stored.\n",
    "- once elements are stored you can not changed them (unmutatable)."
   ]
  },
  {
   "cell_type": "code",
   "execution_count": 23,
   "id": "88c51be6",
   "metadata": {},
   "outputs": [
    {
     "data": {
      "text/plain": [
       "(1, 'python', True, 2.5)"
      ]
     },
     "execution_count": 23,
     "metadata": {},
     "output_type": "execute_result"
    }
   ],
   "source": [
    "tup1=(1, \"python\", True, 2.5)\n",
    "tup1"
   ]
  },
  {
   "cell_type": "code",
   "execution_count": 24,
   "id": "de70c1d9",
   "metadata": {},
   "outputs": [
    {
     "data": {
      "text/plain": [
       "tuple"
      ]
     },
     "execution_count": 24,
     "metadata": {},
     "output_type": "execute_result"
    }
   ],
   "source": [
    "#type of tuple\n",
    "type(tup1)"
   ]
  },
  {
   "cell_type": "markdown",
   "id": "afa60982",
   "metadata": {},
   "source": [
    "### - Indexing in Tuple"
   ]
  },
  {
   "cell_type": "code",
   "execution_count": 25,
   "id": "11adf00b",
   "metadata": {},
   "outputs": [
    {
     "data": {
      "text/plain": [
       "1"
      ]
     },
     "execution_count": 25,
     "metadata": {},
     "output_type": "execute_result"
    }
   ],
   "source": [
    "tup1[0]"
   ]
  },
  {
   "cell_type": "code",
   "execution_count": 26,
   "id": "a8415df0",
   "metadata": {},
   "outputs": [
    {
     "data": {
      "text/plain": [
       "'python'"
      ]
     },
     "execution_count": 26,
     "metadata": {},
     "output_type": "execute_result"
    }
   ],
   "source": [
    "tup1[1]"
   ]
  },
  {
   "cell_type": "code",
   "execution_count": 27,
   "id": "6186b030",
   "metadata": {},
   "outputs": [
    {
     "data": {
      "text/plain": [
       "True"
      ]
     },
     "execution_count": 27,
     "metadata": {},
     "output_type": "execute_result"
    }
   ],
   "source": [
    "tup1[2]"
   ]
  },
  {
   "cell_type": "code",
   "execution_count": 28,
   "id": "ed48a51f",
   "metadata": {},
   "outputs": [
    {
     "data": {
      "text/plain": [
       "2.5"
      ]
     },
     "execution_count": 28,
     "metadata": {},
     "output_type": "execute_result"
    }
   ],
   "source": [
    "tup1[3]"
   ]
  },
  {
   "cell_type": "code",
   "execution_count": 29,
   "id": "b99050bf",
   "metadata": {},
   "outputs": [
    {
     "data": {
      "text/plain": [
       "(1, 'python', True, 2.5)"
      ]
     },
     "execution_count": 29,
     "metadata": {},
     "output_type": "execute_result"
    }
   ],
   "source": [
    "#Last element is exclusive\n",
    "tup1[0:4]"
   ]
  },
  {
   "cell_type": "code",
   "execution_count": 30,
   "id": "93aeaef6",
   "metadata": {},
   "outputs": [
    {
     "data": {
      "text/plain": [
       "4"
      ]
     },
     "execution_count": 30,
     "metadata": {},
     "output_type": "execute_result"
    }
   ],
   "source": [
    "#count of elements in tuple\n",
    "len(tup1)"
   ]
  },
  {
   "cell_type": "code",
   "execution_count": 31,
   "id": "372f2847",
   "metadata": {},
   "outputs": [
    {
     "data": {
      "text/plain": [
       "(4, 'Yasir Mehmood', True, 1.9)"
      ]
     },
     "execution_count": 31,
     "metadata": {},
     "output_type": "execute_result"
    }
   ],
   "source": [
    "tup2=(4,\"Yasir Mehmood\", True, 1.9)\n",
    "tup2"
   ]
  },
  {
   "cell_type": "code",
   "execution_count": 32,
   "id": "d0e96c6e",
   "metadata": {},
   "outputs": [
    {
     "data": {
      "text/plain": [
       "(1, 'python', True, 2.5, 4, 'Yasir Mehmood', True, 1.9)"
      ]
     },
     "execution_count": 32,
     "metadata": {},
     "output_type": "execute_result"
    }
   ],
   "source": [
    "#concatinate\n",
    "tup1 + tup2"
   ]
  },
  {
   "cell_type": "code",
   "execution_count": 33,
   "id": "cf107087",
   "metadata": {},
   "outputs": [
    {
     "data": {
      "text/plain": [
       "(1,\n",
       " 'python',\n",
       " True,\n",
       " 2.5,\n",
       " 1,\n",
       " 'python',\n",
       " True,\n",
       " 2.5,\n",
       " 1,\n",
       " 'python',\n",
       " True,\n",
       " 2.5,\n",
       " 4,\n",
       " 'Yasir Mehmood',\n",
       " True,\n",
       " 1.9)"
      ]
     },
     "execution_count": 33,
     "metadata": {},
     "output_type": "execute_result"
    }
   ],
   "source": [
    "#concatinate + repeat\n",
    "tup1*3 + tup2"
   ]
  },
  {
   "cell_type": "code",
   "execution_count": 34,
   "id": "9da894b3",
   "metadata": {},
   "outputs": [
    {
     "data": {
      "text/plain": [
       "(10, 20, 30, 40, 50, 60, 70, 80, 90)"
      ]
     },
     "execution_count": 34,
     "metadata": {},
     "output_type": "execute_result"
    }
   ],
   "source": [
    "tup3=(10,20,30,40,50,60,70,80,90)\n",
    "tup3"
   ]
  },
  {
   "cell_type": "code",
   "execution_count": 35,
   "id": "7c2563e4",
   "metadata": {},
   "outputs": [
    {
     "data": {
      "text/plain": [
       "10"
      ]
     },
     "execution_count": 35,
     "metadata": {},
     "output_type": "execute_result"
    }
   ],
   "source": [
    "#minimum\n",
    "min(tup3)"
   ]
  },
  {
   "cell_type": "code",
   "execution_count": 36,
   "id": "8275b067",
   "metadata": {},
   "outputs": [
    {
     "data": {
      "text/plain": [
       "90"
      ]
     },
     "execution_count": 36,
     "metadata": {},
     "output_type": "execute_result"
    }
   ],
   "source": [
    "#maximum\n",
    "max(tup3)"
   ]
  },
  {
   "cell_type": "code",
   "execution_count": 37,
   "id": "eaec8c70",
   "metadata": {},
   "outputs": [
    {
     "data": {
      "text/plain": [
       "(10, 20, 30, 40, 50, 60, 70, 80, 90, 10, 20, 30, 40, 50, 60, 70, 80, 90)"
      ]
     },
     "execution_count": 37,
     "metadata": {},
     "output_type": "execute_result"
    }
   ],
   "source": [
    "tup3*2"
   ]
  },
  {
   "cell_type": "markdown",
   "id": "39c063e3",
   "metadata": {},
   "source": [
    "---"
   ]
  },
  {
   "cell_type": "markdown",
   "id": "4082f650",
   "metadata": {},
   "source": [
    "###  2- Lists\n",
    "- Ordered collection of elements.\n",
    "- enclosed in square [] brackets.\n",
    "- Muteable, you can change the values."
   ]
  },
  {
   "cell_type": "code",
   "execution_count": 38,
   "id": "eaf54c5f",
   "metadata": {},
   "outputs": [
    {
     "data": {
      "text/plain": [
       "[2, 'Yasir Mehmood', False]"
      ]
     },
     "execution_count": 38,
     "metadata": {},
     "output_type": "execute_result"
    }
   ],
   "source": [
    "list1=[2, \"Yasir Mehmood\", False]\n",
    "list1"
   ]
  },
  {
   "cell_type": "code",
   "execution_count": 39,
   "id": "20bc8a4b",
   "metadata": {},
   "outputs": [
    {
     "data": {
      "text/plain": [
       "list"
      ]
     },
     "execution_count": 39,
     "metadata": {},
     "output_type": "execute_result"
    }
   ],
   "source": [
    "type(list1)"
   ]
  },
  {
   "cell_type": "code",
   "execution_count": 40,
   "id": "36f20e3d",
   "metadata": {},
   "outputs": [
    {
     "data": {
      "text/plain": [
       "3"
      ]
     },
     "execution_count": 40,
     "metadata": {},
     "output_type": "execute_result"
    }
   ],
   "source": [
    "len(list1)"
   ]
  },
  {
   "cell_type": "code",
   "execution_count": 41,
   "id": "017bdf22",
   "metadata": {},
   "outputs": [
    {
     "data": {
      "text/plain": [
       "'Yasir Mehmood'"
      ]
     },
     "execution_count": 41,
     "metadata": {},
     "output_type": "execute_result"
    }
   ],
   "source": [
    "list1[1]"
   ]
  },
  {
   "cell_type": "code",
   "execution_count": 42,
   "id": "2ba3257d",
   "metadata": {},
   "outputs": [
    {
     "data": {
      "text/plain": [
       "[1, 3, 'Yasir', 'Mehmood', 786, 10.2, False]"
      ]
     },
     "execution_count": 42,
     "metadata": {},
     "output_type": "execute_result"
    }
   ],
   "source": [
    "list2=[1, 3, \"Yasir\", \"Mehmood\", 786, 10.2, False]\n",
    "list2"
   ]
  },
  {
   "cell_type": "code",
   "execution_count": 43,
   "id": "5505a579",
   "metadata": {},
   "outputs": [
    {
     "data": {
      "text/plain": [
       "[2, 'Yasir Mehmood', False, 1, 3, 'Yasir', 'Mehmood', 786, 10.2, False]"
      ]
     },
     "execution_count": 43,
     "metadata": {},
     "output_type": "execute_result"
    }
   ],
   "source": [
    "list1+list2"
   ]
  },
  {
   "cell_type": "code",
   "execution_count": 44,
   "id": "b094493c",
   "metadata": {},
   "outputs": [
    {
     "data": {
      "text/plain": [
       "[2,\n",
       " 'Yasir Mehmood',\n",
       " False,\n",
       " 2,\n",
       " 'Yasir Mehmood',\n",
       " False,\n",
       " 2,\n",
       " 'Yasir Mehmood',\n",
       " False]"
      ]
     },
     "execution_count": 44,
     "metadata": {},
     "output_type": "execute_result"
    }
   ],
   "source": [
    "list1*3"
   ]
  },
  {
   "cell_type": "code",
   "execution_count": 45,
   "id": "eb71a1e8",
   "metadata": {},
   "outputs": [
    {
     "data": {
      "text/plain": [
       "[2, 'Yasir Mehmood', False]"
      ]
     },
     "execution_count": 45,
     "metadata": {},
     "output_type": "execute_result"
    }
   ],
   "source": [
    "list1"
   ]
  },
  {
   "cell_type": "code",
   "execution_count": 46,
   "id": "ef10b32d",
   "metadata": {},
   "outputs": [
    {
     "data": {
      "text/plain": [
       "[False, 'Yasir Mehmood', 2]"
      ]
     },
     "execution_count": 46,
     "metadata": {},
     "output_type": "execute_result"
    }
   ],
   "source": [
    "list1.reverse()\n",
    "list1"
   ]
  },
  {
   "cell_type": "code",
   "execution_count": 47,
   "id": "d88c3125",
   "metadata": {},
   "outputs": [
    {
     "data": {
      "text/plain": [
       "1"
      ]
     },
     "execution_count": 47,
     "metadata": {},
     "output_type": "execute_result"
    }
   ],
   "source": [
    "#List count function\n",
    "list1.count(2)"
   ]
  },
  {
   "cell_type": "code",
   "execution_count": 48,
   "id": "5d46236d",
   "metadata": {},
   "outputs": [
    {
     "data": {
      "text/plain": [
       "[10, 50, 20, 25, 15, 35, 40, 45, 16, 55, 60, 65, 85, 75, 70, 95, 90]"
      ]
     },
     "execution_count": 48,
     "metadata": {},
     "output_type": "execute_result"
    }
   ],
   "source": [
    "list3=[10,50,20,25,15,35,40,45,16,55,60,65,85,75,70,95,90]\n",
    "list3"
   ]
  },
  {
   "cell_type": "code",
   "execution_count": 49,
   "id": "a2f0792a",
   "metadata": {},
   "outputs": [
    {
     "data": {
      "text/plain": [
       "17"
      ]
     },
     "execution_count": 49,
     "metadata": {},
     "output_type": "execute_result"
    }
   ],
   "source": [
    "len(list3)"
   ]
  },
  {
   "cell_type": "code",
   "execution_count": 50,
   "id": "99636e8f",
   "metadata": {},
   "outputs": [
    {
     "data": {
      "text/plain": [
       "[10, 15, 16, 20, 25, 35, 40, 45, 50, 55, 60, 65, 70, 75, 85, 90, 95]"
      ]
     },
     "execution_count": 50,
     "metadata": {},
     "output_type": "execute_result"
    }
   ],
   "source": [
    "#sorting a list\n",
    "list3.sort()\n",
    "list3"
   ]
  },
  {
   "cell_type": "code",
   "execution_count": 51,
   "id": "a952859b",
   "metadata": {},
   "outputs": [
    {
     "data": {
      "text/plain": [
       "[10,\n",
       " 15,\n",
       " 16,\n",
       " 20,\n",
       " 25,\n",
       " 35,\n",
       " 40,\n",
       " 45,\n",
       " 50,\n",
       " 55,\n",
       " 60,\n",
       " 65,\n",
       " 70,\n",
       " 75,\n",
       " 85,\n",
       " 90,\n",
       " 95,\n",
       " 10,\n",
       " 15,\n",
       " 16,\n",
       " 20,\n",
       " 25,\n",
       " 35,\n",
       " 40,\n",
       " 45,\n",
       " 50,\n",
       " 55,\n",
       " 60,\n",
       " 65,\n",
       " 70,\n",
       " 75,\n",
       " 85,\n",
       " 90,\n",
       " 95]"
      ]
     },
     "execution_count": 51,
     "metadata": {},
     "output_type": "execute_result"
    }
   ],
   "source": [
    "list3*2"
   ]
  },
  {
   "cell_type": "code",
   "execution_count": 52,
   "id": "7e56e7c5",
   "metadata": {},
   "outputs": [
    {
     "data": {
      "text/plain": [
       "[False,\n",
       " 'Yasir Mehmood',\n",
       " 2,\n",
       " 10,\n",
       " 15,\n",
       " 16,\n",
       " 20,\n",
       " 25,\n",
       " 35,\n",
       " 40,\n",
       " 45,\n",
       " 50,\n",
       " 55,\n",
       " 60,\n",
       " 65,\n",
       " 70,\n",
       " 75,\n",
       " 85,\n",
       " 90,\n",
       " 95]"
      ]
     },
     "execution_count": 52,
     "metadata": {},
     "output_type": "execute_result"
    }
   ],
   "source": [
    "lists=list1+list3\n",
    "lists"
   ]
  },
  {
   "cell_type": "markdown",
   "id": "700d967a",
   "metadata": {},
   "source": [
    "### 3- Dictionaries\n",
    "- An unordered collection of elements.\n",
    "- Key and Value\n",
    "- Curly Braces or Brackets {}\n",
    "- Muteable/Change the values"
   ]
  },
  {
   "cell_type": "code",
   "execution_count": 53,
   "id": "b0fba71a",
   "metadata": {},
   "outputs": [
    {
     "data": {
      "text/plain": [
       "{'Bryani': 150,\n",
       " 'Raita': 30,\n",
       " 'Salad': 50,\n",
       " 'Chana Chat': 80,\n",
       " 'Pakora': 60,\n",
       " 'Dates': 70}"
      ]
     },
     "execution_count": 53,
     "metadata": {},
     "output_type": "execute_result"
    }
   ],
   "source": [
    "#Food and their prices\n",
    "a1={\"Bryani\":150, \"Raita\":30, \"Salad\":50, \"Chana Chat\":80, \"Pakora\":60, \"Dates\":70}\n",
    "a1"
   ]
  },
  {
   "cell_type": "code",
   "execution_count": 54,
   "id": "1d21574b",
   "metadata": {},
   "outputs": [
    {
     "data": {
      "text/plain": [
       "dict"
      ]
     },
     "execution_count": 54,
     "metadata": {},
     "output_type": "execute_result"
    }
   ],
   "source": [
    "type(a1)"
   ]
  },
  {
   "cell_type": "code",
   "execution_count": 55,
   "id": "848c79d6",
   "metadata": {},
   "outputs": [
    {
     "data": {
      "text/plain": [
       "dict_keys(['Bryani', 'Raita', 'Salad', 'Chana Chat', 'Pakora', 'Dates'])"
      ]
     },
     "execution_count": 55,
     "metadata": {},
     "output_type": "execute_result"
    }
   ],
   "source": [
    "#Extract Data\n",
    "Keys1=a1.keys()\n",
    "Keys1"
   ]
  },
  {
   "cell_type": "code",
   "execution_count": 56,
   "id": "726cd300",
   "metadata": {},
   "outputs": [
    {
     "data": {
      "text/plain": [
       "dict_values([150, 30, 50, 80, 60, 70])"
      ]
     },
     "execution_count": 56,
     "metadata": {},
     "output_type": "execute_result"
    }
   ],
   "source": [
    "Values1=a1.values()\n",
    "Values1"
   ]
  },
  {
   "cell_type": "code",
   "execution_count": 57,
   "id": "d5b473a7",
   "metadata": {},
   "outputs": [
    {
     "data": {
      "text/plain": [
       "{'Bryani': 150,\n",
       " 'Raita': 30,\n",
       " 'Salad': 50,\n",
       " 'Chana Chat': 80,\n",
       " 'Pakora': 60,\n",
       " 'Dates': 70,\n",
       " 'Samosa': 20}"
      ]
     },
     "execution_count": 57,
     "metadata": {},
     "output_type": "execute_result"
    }
   ],
   "source": [
    "#Adding new element\n",
    "a1[\"Samosa\"]=20\n",
    "a1"
   ]
  },
  {
   "cell_type": "code",
   "execution_count": 58,
   "id": "9c4b4da5",
   "metadata": {},
   "outputs": [
    {
     "data": {
      "text/plain": [
       "{'Bryani': 150,\n",
       " 'Raita': 30,\n",
       " 'Salad': 50,\n",
       " 'Chana Chat': 80,\n",
       " 'Pakora': 60,\n",
       " 'Dates': 70,\n",
       " 'Samosa': 15}"
      ]
     },
     "execution_count": 58,
     "metadata": {},
     "output_type": "execute_result"
    }
   ],
   "source": [
    "# Update the values\n",
    "a1[\"Samosa\"]=15\n",
    "a1"
   ]
  },
  {
   "cell_type": "code",
   "execution_count": 59,
   "id": "e97cf6c3",
   "metadata": {},
   "outputs": [
    {
     "data": {
      "text/plain": [
       "{'Grapes': 200,\n",
       " 'Mangoes': 150,\n",
       " 'Watermelon': 100,\n",
       " 'Apples': 120,\n",
       " 'Bannana': 80}"
      ]
     },
     "execution_count": 59,
     "metadata": {},
     "output_type": "execute_result"
    }
   ],
   "source": [
    "a2={\"Grapes\":200, \"Mangoes\":150, \"Watermelon\":100, \"Apples\":120, \"Bannana\":80}\n",
    "a2"
   ]
  },
  {
   "cell_type": "code",
   "execution_count": 60,
   "id": "623b3bb2",
   "metadata": {},
   "outputs": [
    {
     "data": {
      "text/plain": [
       "{'Bryani': 150,\n",
       " 'Raita': 30,\n",
       " 'Salad': 50,\n",
       " 'Chana Chat': 80,\n",
       " 'Pakora': 60,\n",
       " 'Dates': 70,\n",
       " 'Samosa': 15,\n",
       " 'Grapes': 200,\n",
       " 'Mangoes': 150,\n",
       " 'Watermelon': 100,\n",
       " 'Apples': 120,\n",
       " 'Bannana': 80}"
      ]
     },
     "execution_count": 60,
     "metadata": {},
     "output_type": "execute_result"
    }
   ],
   "source": [
    "#concatinate\n",
    "a1.update(a2)\n",
    "a1"
   ]
  },
  {
   "cell_type": "markdown",
   "id": "bb6a75b0",
   "metadata": {},
   "source": [
    "### 4- Sets\n",
    "- Unordered and unindexed.\n",
    "- Curly Braces are Used.\n",
    "- No duplicates are allowed"
   ]
  },
  {
   "cell_type": "code",
   "execution_count": 61,
   "id": "840aa414",
   "metadata": {},
   "outputs": [
    {
     "data": {
      "text/plain": [
       "{3, 4.5, 7.2, 'Islamabad', 'Mehmood', True, 'Yasir'}"
      ]
     },
     "execution_count": 61,
     "metadata": {},
     "output_type": "execute_result"
    }
   ],
   "source": [
    "b1={3, 4.5, 7.2, \"Yasir\", \"Mehmood\", \"Islamabad\", True}\n",
    "b1"
   ]
  },
  {
   "cell_type": "code",
   "execution_count": 62,
   "id": "b96e1189",
   "metadata": {},
   "outputs": [
    {
     "data": {
      "text/plain": [
       "{3, 4.5, 7.2, 'Electronics', 'Islamabad', 'Mehmood', True, 'Yasir'}"
      ]
     },
     "execution_count": 62,
     "metadata": {},
     "output_type": "execute_result"
    }
   ],
   "source": [
    "b1.add(\"Electronics\")\n",
    "b1"
   ]
  },
  {
   "cell_type": "code",
   "execution_count": 63,
   "id": "a4105781",
   "metadata": {},
   "outputs": [
    {
     "data": {
      "text/plain": [
       "{3, 4.5, 7.2, 'Islamabad', 'Mehmood', True, 'Yasir'}"
      ]
     },
     "execution_count": 63,
     "metadata": {},
     "output_type": "execute_result"
    }
   ],
   "source": [
    "b1.remove(\"Electronics\")\n",
    "b1"
   ]
  },
  {
   "cell_type": "code",
   "execution_count": 64,
   "id": "7554bd2c",
   "metadata": {},
   "outputs": [
    {
     "data": {
      "text/plain": [
       "set()"
      ]
     },
     "execution_count": 64,
     "metadata": {},
     "output_type": "execute_result"
    }
   ],
   "source": [
    "b1.clear()\n",
    "b1"
   ]
  },
  {
   "cell_type": "code",
   "execution_count": 65,
   "id": "0e92d080",
   "metadata": {},
   "outputs": [
    {
     "data": {
      "text/plain": [
       "{3, 4.5, 7.2, 'Islamabad', 'Mehmood', True, 'Yasir'}"
      ]
     },
     "execution_count": 65,
     "metadata": {},
     "output_type": "execute_result"
    }
   ],
   "source": [
    "b2={3, 4.5, 7.2, \"Yasir\", \"Mehmood\", \"Islamabad\", True}\n",
    "b3=b2.copy()\n",
    "b3"
   ]
  },
  {
   "cell_type": "code",
   "execution_count": null,
   "id": "470cdce6",
   "metadata": {},
   "outputs": [],
   "source": []
  }
 ],
 "metadata": {
  "kernelspec": {
   "display_name": "Python 3 (ipykernel)",
   "language": "python",
   "name": "python3"
  },
  "language_info": {
   "codemirror_mode": {
    "name": "ipython",
    "version": 3
   },
   "file_extension": ".py",
   "mimetype": "text/x-python",
   "name": "python",
   "nbconvert_exporter": "python",
   "pygments_lexer": "ipython3",
   "version": "3.9.7"
  }
 },
 "nbformat": 4,
 "nbformat_minor": 5
}
