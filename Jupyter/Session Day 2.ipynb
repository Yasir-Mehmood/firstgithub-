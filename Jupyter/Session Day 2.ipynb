{
 "cells": [
  {
   "cell_type": "code",
   "execution_count": null,
   "id": "e0c71835",
   "metadata": {},
   "outputs": [],
   "source": [
    "#Body mass index\n",
    "#input weight\n",
    "#height\n",
    "#Ask your self your height (BMI)\n",
    "#WEIGHT\n",
    "#calculate BMI\n",
    "#Print BMI (My name is------, and)"
   ]
  },
  {
   "cell_type": "code",
   "execution_count": null,
   "id": "a3db85df",
   "metadata": {},
   "outputs": [],
   "source": [
    "#Weight in Kg and Height in meter and its square"
   ]
  },
  {
   "cell_type": "code",
   "execution_count": 1,
   "id": "d2913ca3",
   "metadata": {},
   "outputs": [
    {
     "name": "stdout",
     "output_type": "stream",
     "text": [
      "what is your hieght? 2\n"
     ]
    }
   ],
   "source": [
    "height=input(\"what is your hieght? \")"
   ]
  },
  {
   "cell_type": "code",
   "execution_count": 2,
   "id": "44792171",
   "metadata": {},
   "outputs": [],
   "source": [
    "height=float(height)"
   ]
  },
  {
   "cell_type": "code",
   "execution_count": 3,
   "id": "4bdd0e00",
   "metadata": {},
   "outputs": [
    {
     "name": "stdout",
     "output_type": "stream",
     "text": [
      "what is your weight? 60\n"
     ]
    }
   ],
   "source": [
    "weight=input(\"what is your weight? \")"
   ]
  },
  {
   "cell_type": "code",
   "execution_count": 4,
   "id": "87a848c5",
   "metadata": {},
   "outputs": [],
   "source": [
    "weight=float(weight)"
   ]
  },
  {
   "cell_type": "code",
   "execution_count": 5,
   "id": "f720e3a9",
   "metadata": {},
   "outputs": [
    {
     "name": "stdout",
     "output_type": "stream",
     "text": [
      "what is your name? Yasir Mehmood\n"
     ]
    }
   ],
   "source": [
    "name=input(\"what is your name? \")"
   ]
  },
  {
   "cell_type": "code",
   "execution_count": 6,
   "id": "70a1d90f",
   "metadata": {},
   "outputs": [
    {
     "data": {
      "text/plain": [
       "15.0"
      ]
     },
     "execution_count": 6,
     "metadata": {},
     "output_type": "execute_result"
    }
   ],
   "source": [
    "BMI=weight/height**2\n",
    "BMI"
   ]
  },
  {
   "cell_type": "code",
   "execution_count": 9,
   "id": "a404d85d",
   "metadata": {},
   "outputs": [
    {
     "name": "stdout",
     "output_type": "stream",
     "text": [
      "My name is Yasir Mehmood and my BMI is 15.0\n"
     ]
    }
   ],
   "source": [
    "print(\"My name is\" ,name, \"and my BMI is\", BMI)"
   ]
  }
 ],
 "metadata": {
  "kernelspec": {
   "display_name": "Python 3 (ipykernel)",
   "language": "python",
   "name": "python3"
  },
  "language_info": {
   "codemirror_mode": {
    "name": "ipython",
    "version": 3
   },
   "file_extension": ".py",
   "mimetype": "text/x-python",
   "name": "python",
   "nbconvert_exporter": "python",
   "pygments_lexer": "ipython3",
   "version": "3.9.7"
  }
 },
 "nbformat": 4,
 "nbformat_minor": 5
}
